{
 "cells": [
  {
   "cell_type": "code",
   "execution_count": 21,
   "id": "75495f6e-402f-4844-9c23-cdc343756f74",
   "metadata": {},
   "outputs": [
    {
     "data": {
      "text/plain": [
       "defined \u001b[32mclass\u001b[39m \u001b[36mCoffeeMachine\u001b[39m\n",
       "defined \u001b[32mobject\u001b[39m \u001b[36mCoffeeMachine\u001b[39m"
      ]
     },
     "execution_count": 21,
     "metadata": {},
     "output_type": "execute_result"
    }
   ],
   "source": [
    "\n",
    "case class CoffeeMachine(resources: CoffeeMachine.Resources, money: CoffeeMachine.Coins)\n",
    "\n",
    "object CoffeeMachine: \n",
    "\n",
    "    case class Resources(water: Int, milk: Int, coffee: Int)\n",
    "\n",
    "    case class Coins(quarters: Int, dimes: Int, nickles: Int, pennies: Int)\n",
    "\n",
    "    object Coins:\n",
    "\n",
    "        def total(coins: Coins): BigDecimal = \n",
    "            coins.quarters * 0.25 + \n",
    "            coins.dimes * 0.10 + \n",
    "            coins.nickles * 0.05 + \n",
    "            coins.pennies * 0.01\n",
    "\n",
    "        def toCoins(total: BigDecimal): Coins = \n",
    "            val quarters: Int = (total / 0.25).toInt\n",
    "            val total1: BigDecimal = total - quarters * 0.25\n",
    "            val dimes: Int = (total1 / 0.10).toInt \n",
    "            val total2: BigDecimal = total1 - dimes * 0.10\n",
    "            val nickles: Int = (total2 / 0.05).toInt\n",
    "            val total3: BigDecimal = total2 - nickles * 0.05 \n",
    "            val pennies: Int = (total3 / 0.01).toInt \n",
    "            Coins(quarters, dimes, nickles, pennies)\n",
    "\n",
    "        extension (c: Coins)\n",
    "            def +(c2: Coins): Coins = \n",
    "                (c, c2) match \n",
    "                    case (Coins(q1, d1, n1, p1), Coins(q2, d2, n2, p2)) => \n",
    "                        Coins(q1+q2, d1+d2, n1+n2, p1+p2)\n",
    "            def -(c2: Coins): Coins = \n",
    "                (c, c2) match \n",
    "                    case (Coins(q1, d1, n1, p1), Coins(q2, d2, n2, p2)) => \n",
    "                        Coins(q1-q2, d1-d2, n1-n2, p1-p2)\n",
    "\n",
    "    enum Drink(val resources: Resources, val price: Double): \n",
    "        case Latte extends Drink(Resources(1,3,1), 0.5)\n",
    "        case Expresso extends Drink(Resources(1,0,1), 0.7)\n",
    "        case Cappuccino extends Drink(Resources(1,3,3), 0.9)\n",
    "\n",
    "    enum Command[A]: \n",
    "        case Order(drink: Drink, coins: Coins) extends Command[OrderResult]\n",
    "        case Report extends Command[(Resources, BigDecimal)]\n",
    "        case Off extends Command[Unit]\n",
    "\n",
    "    import Command._ \n",
    "\n",
    "    enum OrderResult:\n",
    "        case NotEnoughResources\n",
    "        case NotEnoughCoins\n",
    "        case Change(c: Coins)\n",
    "\n",
    "    def execute[A](command: Command[A])(machine: CoffeeMachine): (CoffeeMachine, A) = \n",
    "        command match \n",
    "            case Order(d, c) => order(d, c)(machine)\n",
    "            case Report => (machine, report(machine))\n",
    "            case Off => (machine, ()) // free resources\n",
    "\n",
    "    def report(machine: CoffeeMachine): (Resources, BigDecimal) = \n",
    "        (machine.resources, Coins.total(machine.money))\n",
    "\n",
    "    def order(drink: Drink, coins: Coins)(\n",
    "        machine: CoffeeMachine): (CoffeeMachine, OrderResult) = \n",
    "\n",
    "        def prepareCoffee(drink: Drink)(machine: CoffeeMachine): Option[CoffeeMachine] = \n",
    "\n",
    "            def checkResources(drink: Drink): Boolean = \n",
    "                machine.resources.water >= drink.resources.water && \n",
    "                machine.resources.milk >= drink.resources.milk && \n",
    "                machine.resources.coffee >= drink.resources.coffee \n",
    "\n",
    "            if !checkResources(drink) then None \n",
    "            else machine match \n",
    "                case CoffeeMachine(Resources(water, milk, coffee), coins) => \n",
    "                    Some(CoffeeMachine(\n",
    "                        Resources(\n",
    "                            water - drink.resources.water, \n",
    "                            milk - drink.resources.milk,\n",
    "                            coffee - drink.resources.coffee), \n",
    "                        coins))\n",
    "\n",
    "        def processCoins(drink: Drink, coins: Coins)(\n",
    "            machine: CoffeeMachine): Option[(CoffeeMachine, OrderResult.Change)] = \n",
    "\n",
    "            def checkCoins(drink: Drink, coins: Coins): Boolean = \n",
    "                Coins.total(coins) >= drink.price\n",
    "\n",
    "            if !checkCoins(drink, coins) then None\n",
    "            else machine match \n",
    "                case CoffeeMachine(r, coinsM) => \n",
    "                    val totalChange: BigDecimal = Coins.total(coins) - drink.price\n",
    "                    val changeInCoins: Coins = Coins.toCoins(totalChange)\n",
    "                    Some((CoffeeMachine(r, coinsM + coins - changeInCoins), \n",
    "                          OrderResult.Change(changeInCoins)))\n",
    "\n",
    "\n",
    "        prepareCoffee(drink)(machine) match \n",
    "            case None => (machine, OrderResult.NotEnoughResources)\n",
    "            case Some(machine2) => \n",
    "                processCoins(drink, coins)(machine2) match \n",
    "                    case None => (machine, OrderResult.NotEnoughCoins)\n",
    "                    case Some(result) => result\n",
    "\n",
    "    \n",
    "\n",
    "    "
   ]
  },
  {
   "cell_type": "code",
   "execution_count": 15,
   "id": "9d9d6162-e44e-4026-8a70-ba667e97da50",
   "metadata": {},
   "outputs": [
    {
     "data": {
      "text/plain": [
       "\u001b[32mimport \u001b[39m\u001b[36mCoffeeMachine._\n",
       "\u001b[39m"
      ]
     },
     "execution_count": 15,
     "metadata": {},
     "output_type": "execute_result"
    }
   ],
   "source": [
    "import CoffeeMachine._"
   ]
  },
  {
   "cell_type": "code",
   "execution_count": 16,
   "id": "4e7ec4a5-a361-47ea-8b1c-b02e4019486a",
   "metadata": {},
   "outputs": [
    {
     "data": {
      "text/plain": [
       "\u001b[36mm1\u001b[39m: \u001b[32mCoffeeMachine\u001b[39m = \u001b[33mCoffeeMachine\u001b[39m(\n",
       "  resources = \u001b[33mResources\u001b[39m(water = \u001b[32m25\u001b[39m, milk = \u001b[32m25\u001b[39m, coffee = \u001b[32m25\u001b[39m),\n",
       "  money = \u001b[33mCoins\u001b[39m(quarters = \u001b[32m50\u001b[39m, dimes = \u001b[32m50\u001b[39m, nickles = \u001b[32m50\u001b[39m, pennies = \u001b[32m50\u001b[39m)\n",
       ")"
      ]
     },
     "execution_count": 16,
     "metadata": {},
     "output_type": "execute_result"
    }
   ],
   "source": [
    "val m1 = CoffeeMachine(Resources(25,25,25), Coins(50, 50, 50, 50))"
   ]
  },
  {
   "cell_type": "code",
   "execution_count": 17,
   "id": "723e6a47-2f92-4157-bd6f-1e484302a98d",
   "metadata": {},
   "outputs": [
    {
     "data": {
      "text/plain": [
       "\u001b[36mm2\u001b[39m: \u001b[32mCoffeeMachine\u001b[39m = \u001b[33mCoffeeMachine\u001b[39m(\n",
       "  resources = \u001b[33mResources\u001b[39m(water = \u001b[32m24\u001b[39m, milk = \u001b[32m22\u001b[39m, coffee = \u001b[32m24\u001b[39m),\n",
       "  money = \u001b[33mCoins\u001b[39m(quarters = \u001b[32m51\u001b[39m, dimes = \u001b[32m52\u001b[39m, nickles = \u001b[32m51\u001b[39m, pennies = \u001b[32m50\u001b[39m)\n",
       ")\n",
       "\u001b[36mr2\u001b[39m: \u001b[32mOrderResult\u001b[39m = \u001b[33mChange\u001b[39m(\n",
       "  c = \u001b[33mCoins\u001b[39m(quarters = \u001b[32m0\u001b[39m, dimes = \u001b[32m0\u001b[39m, nickles = \u001b[32m0\u001b[39m, pennies = \u001b[32m0\u001b[39m)\n",
       ")"
      ]
     },
     "execution_count": 17,
     "metadata": {},
     "output_type": "execute_result"
    }
   ],
   "source": [
    "val (m2, r2) = execute(Command.Order(Drink.Latte, Coins(1,2,1,0)))(m1)"
   ]
  },
  {
   "cell_type": "code",
   "execution_count": 18,
   "id": "76f7a86b-eecd-4276-a2e2-09a1ccc948d9",
   "metadata": {},
   "outputs": [
    {
     "data": {
      "text/plain": [
       "\u001b[36mm3\u001b[39m: \u001b[32mCoffeeMachine\u001b[39m = \u001b[33mCoffeeMachine\u001b[39m(\n",
       "  resources = \u001b[33mResources\u001b[39m(water = \u001b[32m23\u001b[39m, milk = \u001b[32m19\u001b[39m, coffee = \u001b[32m21\u001b[39m),\n",
       "  money = \u001b[33mCoins\u001b[39m(quarters = \u001b[32m55\u001b[39m, dimes = \u001b[32m51\u001b[39m, nickles = \u001b[32m51\u001b[39m, pennies = \u001b[32m50\u001b[39m)\n",
       ")\n",
       "\u001b[36mr3\u001b[39m: \u001b[32mOrderResult\u001b[39m = \u001b[33mChange\u001b[39m(\n",
       "  c = \u001b[33mCoins\u001b[39m(quarters = \u001b[32m0\u001b[39m, dimes = \u001b[32m1\u001b[39m, nickles = \u001b[32m0\u001b[39m, pennies = \u001b[32m0\u001b[39m)\n",
       ")"
      ]
     },
     "execution_count": 18,
     "metadata": {},
     "output_type": "execute_result"
    }
   ],
   "source": [
    "val (m3, r3) = execute(Command.Order(Drink.Cappuccino, Coins(4,0,0,0)))(m2)"
   ]
  },
  {
   "cell_type": "code",
   "execution_count": 19,
   "id": "7d4281a2-cb4e-434f-9ae7-c313e4cdd9ba",
   "metadata": {},
   "outputs": [
    {
     "data": {
      "text/plain": [
       "\u001b[36mm4\u001b[39m: \u001b[32mCoffeeMachine\u001b[39m = \u001b[33mCoffeeMachine\u001b[39m(\n",
       "  resources = \u001b[33mResources\u001b[39m(water = \u001b[32m23\u001b[39m, milk = \u001b[32m19\u001b[39m, coffee = \u001b[32m21\u001b[39m),\n",
       "  money = \u001b[33mCoins\u001b[39m(quarters = \u001b[32m55\u001b[39m, dimes = \u001b[32m51\u001b[39m, nickles = \u001b[32m51\u001b[39m, pennies = \u001b[32m50\u001b[39m)\n",
       ")\n",
       "\u001b[36mreport\u001b[39m: (\u001b[32mResources\u001b[39m, \u001b[32mBigDecimal\u001b[39m) = (\n",
       "  \u001b[33mResources\u001b[39m(water = \u001b[32m23\u001b[39m, milk = \u001b[32m19\u001b[39m, coffee = \u001b[32m21\u001b[39m),\n",
       "  21.900000000000002\n",
       ")"
      ]
     },
     "execution_count": 19,
     "metadata": {},
     "output_type": "execute_result"
    }
   ],
   "source": [
    "val (m4, report) = execute(Command.Report)(m3)"
   ]
  },
  {
   "cell_type": "code",
   "execution_count": null,
   "id": "431822d2-a68c-46c7-887f-219d5bbf6e54",
   "metadata": {},
   "outputs": [],
   "source": []
  }
 ],
 "metadata": {
  "kernelspec": {
   "display_name": "Scala 3.3",
   "language": "scala",
   "name": "scala33"
  },
  "language_info": {
   "codemirror_mode": "text/x-scala",
   "file_extension": ".sc",
   "mimetype": "text/x-scala",
   "name": "scala",
   "nbconvert_exporter": "script",
   "version": "2.13.12"
  }
 },
 "nbformat": 4,
 "nbformat_minor": 5
}
